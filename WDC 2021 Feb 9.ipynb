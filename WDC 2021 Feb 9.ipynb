{
 "cells": [
  {
   "cell_type": "markdown",
   "metadata": {},
   "source": [
    "# Agenda\n",
    "\n",
    "1. `*args`\n",
    "2. `**kwargs`\n",
    "3. keyword only parameters\n",
    "4. positional parameters\n",
    "5. Enclosing scope -- nested functions\n",
    "6. Comprehensions"
   ]
  },
  {
   "cell_type": "code",
   "execution_count": 1,
   "metadata": {},
   "outputs": [
    {
     "data": {
      "text/plain": [
       "60"
      ]
     },
     "execution_count": 1,
     "metadata": {},
     "output_type": "execute_result"
    }
   ],
   "source": [
    "sum([10, 20, 30])"
   ]
  },
  {
   "cell_type": "code",
   "execution_count": 2,
   "metadata": {},
   "outputs": [
    {
     "name": "stdout",
     "output_type": "stream",
     "text": [
      "numbers=[10, 20, 30]\n"
     ]
    },
    {
     "data": {
      "text/plain": [
       "60"
      ]
     },
     "execution_count": 2,
     "metadata": {},
     "output_type": "execute_result"
    }
   ],
   "source": [
    "def mysum(numbers):\n",
    "    print(f'{numbers=}')\n",
    "    total = 0\n",
    "    for one_number in numbers:\n",
    "        total += one_number\n",
    "    return total\n",
    "\n",
    "mysum([10, 20, 30])"
   ]
  },
  {
   "cell_type": "code",
   "execution_count": 3,
   "metadata": {},
   "outputs": [
    {
     "name": "stdout",
     "output_type": "stream",
     "text": [
      "numbers=(10, 20, 30)\n"
     ]
    },
    {
     "data": {
      "text/plain": [
       "60"
      ]
     },
     "execution_count": 3,
     "metadata": {},
     "output_type": "execute_result"
    }
   ],
   "source": [
    "mysum((10, 20, 30))"
   ]
  },
  {
   "cell_type": "code",
   "execution_count": 4,
   "metadata": {},
   "outputs": [
    {
     "name": "stdout",
     "output_type": "stream",
     "text": [
      "numbers={1: 'a', 2: 'b', 3: 'c'}\n"
     ]
    },
    {
     "data": {
      "text/plain": [
       "6"
      ]
     },
     "execution_count": 4,
     "metadata": {},
     "output_type": "execute_result"
    }
   ],
   "source": [
    "mysum({1:'a', 2:'b', 3:'c'})"
   ]
  },
  {
   "cell_type": "code",
   "execution_count": 5,
   "metadata": {},
   "outputs": [
    {
     "ename": "TypeError",
     "evalue": "mysum() takes 1 positional argument but 3 were given",
     "output_type": "error",
     "traceback": [
      "\u001b[0;31m---------------------------------------------------------------------------\u001b[0m",
      "\u001b[0;31mTypeError\u001b[0m                                 Traceback (most recent call last)",
      "\u001b[0;32m<ipython-input-5-d0c5fc09f297>\u001b[0m in \u001b[0;36m<module>\u001b[0;34m\u001b[0m\n\u001b[0;32m----> 1\u001b[0;31m \u001b[0mmysum\u001b[0m\u001b[0;34m(\u001b[0m\u001b[0;36m10\u001b[0m\u001b[0;34m,\u001b[0m \u001b[0;36m20\u001b[0m\u001b[0;34m,\u001b[0m \u001b[0;36m30\u001b[0m\u001b[0;34m)\u001b[0m\u001b[0;34m\u001b[0m\u001b[0;34m\u001b[0m\u001b[0m\n\u001b[0m",
      "\u001b[0;31mTypeError\u001b[0m: mysum() takes 1 positional argument but 3 were given"
     ]
    }
   ],
   "source": [
    "mysum(10, 20, 30)"
   ]
  },
  {
   "cell_type": "code",
   "execution_count": 7,
   "metadata": {},
   "outputs": [
    {
     "name": "stdout",
     "output_type": "stream",
     "text": [
      "numbers=(10, 20, 30)\n"
     ]
    },
    {
     "data": {
      "text/plain": [
       "60"
      ]
     },
     "execution_count": 7,
     "metadata": {},
     "output_type": "execute_result"
    }
   ],
   "source": [
    "# *args\n",
    "\n",
    "def mysum(*numbers):\n",
    "    print(f'{numbers=}')\n",
    "    total = 0\n",
    "    for one_number in numbers:\n",
    "        total += one_number\n",
    "    return total\n",
    "\n",
    "mysum(10, 20, 30)"
   ]
  },
  {
   "cell_type": "code",
   "execution_count": 8,
   "metadata": {},
   "outputs": [
    {
     "data": {
      "text/plain": [
       "0"
      ]
     },
     "execution_count": 8,
     "metadata": {},
     "output_type": "execute_result"
    }
   ],
   "source": [
    "mysum.__code__.co_argcount"
   ]
  },
  {
   "cell_type": "code",
   "execution_count": 9,
   "metadata": {},
   "outputs": [
    {
     "data": {
      "text/plain": [
       "('numbers', 'total', 'one_number')"
      ]
     },
     "execution_count": 9,
     "metadata": {},
     "output_type": "execute_result"
    }
   ],
   "source": [
    "mysum.__code__.co_varnames"
   ]
  },
  {
   "cell_type": "code",
   "execution_count": 10,
   "metadata": {},
   "outputs": [
    {
     "data": {
      "text/plain": [
       "71"
      ]
     },
     "execution_count": 10,
     "metadata": {},
     "output_type": "execute_result"
    }
   ],
   "source": [
    "mysum.__code__.co_flags"
   ]
  },
  {
   "cell_type": "code",
   "execution_count": 11,
   "metadata": {},
   "outputs": [
    {
     "data": {
      "text/plain": [
       "'0b1000111'"
      ]
     },
     "execution_count": 11,
     "metadata": {},
     "output_type": "execute_result"
    }
   ],
   "source": [
    "bin(mysum.__code__.co_flags)"
   ]
  },
  {
   "cell_type": "code",
   "execution_count": 12,
   "metadata": {},
   "outputs": [],
   "source": [
    "# *args\n",
    "\n",
    "def mysum(numbers):\n",
    "    print(f'{numbers=}')\n",
    "    total = 0\n",
    "    for one_number in numbers:\n",
    "        total += one_number\n",
    "    return total\n"
   ]
  },
  {
   "cell_type": "code",
   "execution_count": 13,
   "metadata": {},
   "outputs": [
    {
     "data": {
      "text/plain": [
       "'0b1000011'"
      ]
     },
     "execution_count": 13,
     "metadata": {},
     "output_type": "execute_result"
    }
   ],
   "source": [
    "bin(mysum.__code__.co_flags)"
   ]
  },
  {
   "cell_type": "code",
   "execution_count": 14,
   "metadata": {},
   "outputs": [],
   "source": [
    "import dis"
   ]
  },
  {
   "cell_type": "code",
   "execution_count": 15,
   "metadata": {},
   "outputs": [
    {
     "name": "stdout",
     "output_type": "stream",
     "text": [
      "Name:              mysum\n",
      "Filename:          <ipython-input-12-8f2b1bad31a7>\n",
      "Argument count:    1\n",
      "Positional-only arguments: 0\n",
      "Kw-only arguments: 0\n",
      "Number of locals:  3\n",
      "Stack size:        3\n",
      "Flags:             OPTIMIZED, NEWLOCALS, NOFREE\n",
      "Constants:\n",
      "   0: None\n",
      "   1: 'numbers='\n",
      "   2: 0\n",
      "Names:\n",
      "   0: print\n",
      "Variable names:\n",
      "   0: numbers\n",
      "   1: total\n",
      "   2: one_number\n"
     ]
    }
   ],
   "source": [
    "dis.show_code(mysum)"
   ]
  },
  {
   "cell_type": "code",
   "execution_count": 16,
   "metadata": {},
   "outputs": [],
   "source": [
    "def mysum(*numbers):\n",
    "    print(f'{numbers=}')\n",
    "    total = 0\n",
    "    for one_number in numbers:\n",
    "        total += one_number\n",
    "    return total"
   ]
  },
  {
   "cell_type": "code",
   "execution_count": 17,
   "metadata": {},
   "outputs": [
    {
     "name": "stdout",
     "output_type": "stream",
     "text": [
      "Name:              mysum\n",
      "Filename:          <ipython-input-16-d01a8b49e996>\n",
      "Argument count:    0\n",
      "Positional-only arguments: 0\n",
      "Kw-only arguments: 0\n",
      "Number of locals:  3\n",
      "Stack size:        3\n",
      "Flags:             OPTIMIZED, NEWLOCALS, VARARGS, NOFREE\n",
      "Constants:\n",
      "   0: None\n",
      "   1: 'numbers='\n",
      "   2: 0\n",
      "Names:\n",
      "   0: print\n",
      "Variable names:\n",
      "   0: numbers\n",
      "   1: total\n",
      "   2: one_number\n"
     ]
    }
   ],
   "source": [
    "dis.show_code(mysum)"
   ]
  },
  {
   "cell_type": "code",
   "execution_count": 18,
   "metadata": {},
   "outputs": [
    {
     "name": "stdout",
     "output_type": "stream",
     "text": [
      "numbers=([10, 20, 30],)\n"
     ]
    },
    {
     "ename": "TypeError",
     "evalue": "unsupported operand type(s) for +=: 'int' and 'list'",
     "output_type": "error",
     "traceback": [
      "\u001b[0;31m---------------------------------------------------------------------------\u001b[0m",
      "\u001b[0;31mTypeError\u001b[0m                                 Traceback (most recent call last)",
      "\u001b[0;32m<ipython-input-18-21f0e8700c44>\u001b[0m in \u001b[0;36m<module>\u001b[0;34m\u001b[0m\n\u001b[1;32m      1\u001b[0m \u001b[0mmylist\u001b[0m \u001b[0;34m=\u001b[0m \u001b[0;34m[\u001b[0m\u001b[0;36m10\u001b[0m\u001b[0;34m,\u001b[0m \u001b[0;36m20\u001b[0m\u001b[0;34m,\u001b[0m \u001b[0;36m30\u001b[0m\u001b[0;34m]\u001b[0m\u001b[0;34m\u001b[0m\u001b[0;34m\u001b[0m\u001b[0m\n\u001b[1;32m      2\u001b[0m \u001b[0;34m\u001b[0m\u001b[0m\n\u001b[0;32m----> 3\u001b[0;31m \u001b[0mmysum\u001b[0m\u001b[0;34m(\u001b[0m\u001b[0mmylist\u001b[0m\u001b[0;34m)\u001b[0m\u001b[0;34m\u001b[0m\u001b[0;34m\u001b[0m\u001b[0m\n\u001b[0m",
      "\u001b[0;32m<ipython-input-16-d01a8b49e996>\u001b[0m in \u001b[0;36mmysum\u001b[0;34m(*numbers)\u001b[0m\n\u001b[1;32m      3\u001b[0m     \u001b[0mtotal\u001b[0m \u001b[0;34m=\u001b[0m \u001b[0;36m0\u001b[0m\u001b[0;34m\u001b[0m\u001b[0;34m\u001b[0m\u001b[0m\n\u001b[1;32m      4\u001b[0m     \u001b[0;32mfor\u001b[0m \u001b[0mone_number\u001b[0m \u001b[0;32min\u001b[0m \u001b[0mnumbers\u001b[0m\u001b[0;34m:\u001b[0m\u001b[0;34m\u001b[0m\u001b[0;34m\u001b[0m\u001b[0m\n\u001b[0;32m----> 5\u001b[0;31m         \u001b[0mtotal\u001b[0m \u001b[0;34m+=\u001b[0m \u001b[0mone_number\u001b[0m\u001b[0;34m\u001b[0m\u001b[0;34m\u001b[0m\u001b[0m\n\u001b[0m\u001b[1;32m      6\u001b[0m     \u001b[0;32mreturn\u001b[0m \u001b[0mtotal\u001b[0m\u001b[0;34m\u001b[0m\u001b[0;34m\u001b[0m\u001b[0m\n",
      "\u001b[0;31mTypeError\u001b[0m: unsupported operand type(s) for +=: 'int' and 'list'"
     ]
    }
   ],
   "source": [
    "mylist = [10, 20, 30]\n",
    "\n",
    "mysum(mylist)"
   ]
  },
  {
   "cell_type": "code",
   "execution_count": 19,
   "metadata": {},
   "outputs": [
    {
     "name": "stdout",
     "output_type": "stream",
     "text": [
      "numbers=(10, 20, 30)\n"
     ]
    },
    {
     "data": {
      "text/plain": [
       "60"
      ]
     },
     "execution_count": 19,
     "metadata": {},
     "output_type": "execute_result"
    }
   ],
   "source": [
    "mysum(*mylist)"
   ]
  },
  {
   "cell_type": "code",
   "execution_count": 20,
   "metadata": {},
   "outputs": [
    {
     "ename": "TypeError",
     "evalue": "add() missing 1 required positional argument: 'b'",
     "output_type": "error",
     "traceback": [
      "\u001b[0;31m---------------------------------------------------------------------------\u001b[0m",
      "\u001b[0;31mTypeError\u001b[0m                                 Traceback (most recent call last)",
      "\u001b[0;32m<ipython-input-20-ccbb0c59b67f>\u001b[0m in \u001b[0;36m<module>\u001b[0;34m\u001b[0m\n\u001b[1;32m      3\u001b[0m \u001b[0;34m\u001b[0m\u001b[0m\n\u001b[1;32m      4\u001b[0m \u001b[0mt\u001b[0m \u001b[0;34m=\u001b[0m \u001b[0;34m(\u001b[0m\u001b[0;36m10\u001b[0m\u001b[0;34m,\u001b[0m \u001b[0;36m3\u001b[0m\u001b[0;34m)\u001b[0m\u001b[0;34m\u001b[0m\u001b[0;34m\u001b[0m\u001b[0m\n\u001b[0;32m----> 5\u001b[0;31m \u001b[0madd\u001b[0m\u001b[0;34m(\u001b[0m\u001b[0mt\u001b[0m\u001b[0;34m)\u001b[0m\u001b[0;34m\u001b[0m\u001b[0;34m\u001b[0m\u001b[0m\n\u001b[0m",
      "\u001b[0;31mTypeError\u001b[0m: add() missing 1 required positional argument: 'b'"
     ]
    }
   ],
   "source": [
    "def add(a, b):\n",
    "    return a + b\n",
    "\n",
    "t = (10, 3)\n",
    "add(t)"
   ]
  },
  {
   "cell_type": "code",
   "execution_count": 21,
   "metadata": {},
   "outputs": [
    {
     "data": {
      "text/plain": [
       "13"
      ]
     },
     "execution_count": 21,
     "metadata": {},
     "output_type": "execute_result"
    }
   ],
   "source": [
    "add(*t)"
   ]
  },
  {
   "cell_type": "code",
   "execution_count": 22,
   "metadata": {},
   "outputs": [
    {
     "data": {
      "text/plain": [
       "[20, 30, 40]"
      ]
     },
     "execution_count": 22,
     "metadata": {},
     "output_type": "execute_result"
    }
   ],
   "source": [
    "x, *y, z = [10, 20, 30, 40, 50]\n",
    "y"
   ]
  },
  {
   "cell_type": "code",
   "execution_count": 24,
   "metadata": {},
   "outputs": [],
   "source": [
    "def foo(a, b, *args):\n",
    "    return f'{a=}, {b=}, {args=}'"
   ]
  },
  {
   "cell_type": "code",
   "execution_count": 25,
   "metadata": {},
   "outputs": [
    {
     "data": {
      "text/plain": [
       "'a=10, b=20, args=(30, 40, 50)'"
      ]
     },
     "execution_count": 25,
     "metadata": {},
     "output_type": "execute_result"
    }
   ],
   "source": [
    "foo(10, 20, 30, 40, 50)"
   ]
  },
  {
   "cell_type": "code",
   "execution_count": 26,
   "metadata": {},
   "outputs": [
    {
     "data": {
      "text/plain": [
       "2"
      ]
     },
     "execution_count": 26,
     "metadata": {},
     "output_type": "execute_result"
    }
   ],
   "source": [
    "foo.__code__.co_argcount"
   ]
  },
  {
   "cell_type": "code",
   "execution_count": 27,
   "metadata": {},
   "outputs": [],
   "source": [
    "def foo(a, b=999, *args):\n",
    "    return f'{a=}, {b=}, {args=}'"
   ]
  },
  {
   "cell_type": "code",
   "execution_count": 28,
   "metadata": {},
   "outputs": [
    {
     "data": {
      "text/plain": [
       "'a=10, b=20, args=(30, 40, 50)'"
      ]
     },
     "execution_count": 28,
     "metadata": {},
     "output_type": "execute_result"
    }
   ],
   "source": [
    "foo(10, 20, 30, 40, 50)"
   ]
  },
  {
   "cell_type": "code",
   "execution_count": 29,
   "metadata": {},
   "outputs": [
    {
     "ename": "TypeError",
     "evalue": "foo() got an unexpected keyword argument 'args'",
     "output_type": "error",
     "traceback": [
      "\u001b[0;31m---------------------------------------------------------------------------\u001b[0m",
      "\u001b[0;31mTypeError\u001b[0m                                 Traceback (most recent call last)",
      "\u001b[0;32m<ipython-input-29-9347223c6d6a>\u001b[0m in \u001b[0;36m<module>\u001b[0;34m\u001b[0m\n\u001b[0;32m----> 1\u001b[0;31m \u001b[0mfoo\u001b[0m\u001b[0;34m(\u001b[0m\u001b[0;36m10\u001b[0m\u001b[0;34m,\u001b[0m \u001b[0margs\u001b[0m\u001b[0;34m=\u001b[0m\u001b[0;34m(\u001b[0m\u001b[0;36m30\u001b[0m\u001b[0;34m,\u001b[0m \u001b[0;36m40\u001b[0m\u001b[0;34m,\u001b[0m \u001b[0;36m50\u001b[0m\u001b[0;34m)\u001b[0m\u001b[0;34m)\u001b[0m\u001b[0;34m\u001b[0m\u001b[0;34m\u001b[0m\u001b[0m\n\u001b[0m",
      "\u001b[0;31mTypeError\u001b[0m: foo() got an unexpected keyword argument 'args'"
     ]
    }
   ],
   "source": [
    "foo(10, args=(30, 40, 50))"
   ]
  },
  {
   "cell_type": "code",
   "execution_count": 30,
   "metadata": {},
   "outputs": [
    {
     "data": {
      "text/plain": [
       "'a=10, b=999, args=(20, 30, 40, 50)'"
      ]
     },
     "execution_count": 30,
     "metadata": {},
     "output_type": "execute_result"
    }
   ],
   "source": [
    "# keyword-only arguments\n",
    "# b is now keyword only, with a default!\n",
    "# if I want to give it a value, I have to say b=VALUE\n",
    "\n",
    "def foo(a, *args, b=999):\n",
    "    return f'{a=}, {b=}, {args=}'\n",
    "\n",
    "foo(10, 20, 30, 40, 50)"
   ]
  },
  {
   "cell_type": "code",
   "execution_count": 31,
   "metadata": {},
   "outputs": [
    {
     "data": {
      "text/plain": [
       "'a=10, b=60, args=(20, 30, 40, 50)'"
      ]
     },
     "execution_count": 31,
     "metadata": {},
     "output_type": "execute_result"
    }
   ],
   "source": [
    "foo(10, 20, 30, 40, 50, b=60)"
   ]
  },
  {
   "cell_type": "code",
   "execution_count": 33,
   "metadata": {},
   "outputs": [
    {
     "name": "stdout",
     "output_type": "stream",
     "text": [
      "linux-etc-passwd.txt  mini-access-log.txt  nums.txt  shoe-data.txt\r\n"
     ]
    }
   ],
   "source": [
    "!ls *.txt"
   ]
  },
  {
   "cell_type": "code",
   "execution_count": 39,
   "metadata": {},
   "outputs": [
    {
     "name": "stdout",
     "output_type": "stream",
     "text": [
      "x: root:x:0:0:root:/root:/bin/bash\n",
      "x: daemon:x:1:1:daemon:/usr/sbin:/usr/sbin/nologin\n",
      "x: bin:x:2:2:bin:/bin:/usr/sbin/nologin\n",
      "x: sys:x:3:3:sys:/dev:/usr/sbin/nologin\n",
      "y: sys:x:3:3:sys:/dev:/usr/sbin/nologin\n",
      "x: sync:x:4:65534:sync:/bin:/bin/sync\n",
      "y: sync:x:4:65534:sync:/bin:/bin/sync\n",
      "x: games:x:5:60:games:/usr/games:/usr/sbin/nologin\n",
      "x: man:x:6:12:man:/var/cache/man:/usr/sbin/nologin\n",
      "x: lp:x:7:7:lp:/var/spool/lpd:/usr/sbin/nologin\n",
      "x: mail:x:8:8:mail:/var/mail:/usr/sbin/nologin\n",
      "x: news:x:9:9:news:/var/spool/news:/usr/sbin/nologin\n",
      "x: uucp:x:10:10:uucp:/var/spool/uucp:/usr/sbin/nologin\n",
      "x: proxy:x:13:13:proxy:/bin:/usr/sbin/nologin\n",
      "y: proxy:x:13:13:proxy:/bin:/usr/sbin/nologin\n",
      "x: www-data:x:33:33:www-data:/var/www:/usr/sbin/nologin\n",
      "x: backup:x:34:34:backup:/var/backups:/usr/sbin/nologin\n",
      "x: list:x:38:38:Mailing List Manager:/var/list:/usr/sbin/nologin\n",
      "x: irc:x:39:39:ircd:/var/run/ircd:/usr/sbin/nologin\n",
      "x: gnats:x:41:41:Gnats Bug-Reporting System (admin):/var/lib/gnats:/usr/sbin/nologin\n",
      "y: gnats:x:41:41:Gnats Bug-Reporting System (admin):/var/lib/gnats:/usr/sbin/nologin\n",
      "x: nobody:x:65534:65534:nobody:/nonexistent:/usr/sbin/nologin\n",
      "y: nobody:x:65534:65534:nobody:/nonexistent:/usr/sbin/nologin\n",
      "x: syslog:x:101:104::/home/syslog:/bin/false\n",
      "y: syslog:x:101:104::/home/syslog:/bin/false\n",
      "x: messagebus:x:102:106::/var/run/dbus:/bin/false\n",
      "x: landscape:x:103:109::/var/lib/landscape:/bin/false\n",
      "x: jci:x:955:955::/home/jci:/bin/bash\n",
      "x: sshd:x:104:65534::/var/run/sshd:/usr/sbin/nologin\n",
      "x: user:x:1000:1000:user,,,:/home/user:/bin/bash\n",
      "x: reuven:x:1001:1001:Reuven M. Lerner,,,:/home/reuven:/bin/bash\n",
      "x: postfix:x:105:113::/var/spool/postfix:/bin/false\n",
      "x: colord:x:106:116:colord colour management daemon,,,:/var/lib/colord:/bin/false\n",
      "x: postgres:x:107:117:PostgreSQL administrator,,,:/var/lib/postgresql:/bin/bash\n",
      "x: dovecot:x:108:119:Dovecot mail server,,,:/usr/lib/dovecot:/bin/false\n",
      "x: dovenull:x:109:120:Dovecot login user,,,:/nonexistent:/bin/false\n",
      "x: postgrey:x:110:121::/var/lib/postgrey:/bin/false\n",
      "y: postgrey:x:110:121::/var/lib/postgrey:/bin/false\n",
      "x: debian-spamd:x:111:122::/var/lib/spamassassin:/bin/sh\n",
      "x: memcache:x:113:124:Memcached,,,:/nonexistent:/bin/false\n",
      "x: genadi:x:1002:1003:Genadi Reznichenko,,,:/home/genadi:/bin/bash\n",
      "x: shira:x:1003:1004:Shira Friedman,,,:/home/shira:/bin/bash\n",
      "x: atara:x:1004:1005:Atara Lerner-Friedman,,,:/home/atara:/bin/bash\n",
      "x: shikma:x:1005:1006:Shikma Lerner-Friedman,,,:/home/shikma:/bin/bash\n",
      "x: amotz:x:1006:1007:Amotz Lerner-Friedman,,,:/home/amotz:/bin/bash\n",
      "x: mysql:x:114:125:MySQL Server,,,:/nonexistent:/bin/false\n",
      "y: mysql:x:114:125:MySQL Server,,,:/nonexistent:/bin/false\n",
      "x: clamav:x:115:126::/var/lib/clamav:/bin/false\n",
      "x: amavis:x:116:127:AMaViS system user,,,:/var/lib/amavis:/bin/sh\n",
      "y: amavis:x:116:127:AMaViS system user,,,:/var/lib/amavis:/bin/sh\n",
      "x: opendkim:x:117:128::/var/run/opendkim:/bin/false\n",
      "x: gitlab-redis:x:999:1009::/var/opt/gitlab/redis:/bin/nologin\n",
      "x: gitlab-psql:x:998:1010::/var/opt/gitlab/postgresql:/bin/sh\n",
      "x: git:x:1007:1008:GitLab,,,:/home/git:/bin/bash\n",
      "x: opendmarc:x:118:129::/var/run/opendmarc:/bin/false\n",
      "x: dkim-milter-python:x:119:130::/var/run/dkim-milter-python:/bin/false\n",
      "y: dkim-milter-python:x:119:130::/var/run/dkim-milter-python:/bin/false\n",
      "x: deploy:x:1008:1011:Deploy,,,:/home/deploy:/bin/bash\n",
      "y: deploy:x:1008:1011:Deploy,,,:/home/deploy:/bin/bash\n",
      "x: redis:x:112:123:redis server,,,:/var/lib/redis:/bin/false\n"
     ]
    }
   ],
   "source": [
    "def find_in_file(filename, *args):\n",
    "    for one_line in open(filename):\n",
    "        for one_string in args:\n",
    "            if one_string in one_line:\n",
    "                print(f'{one_string}: {one_line}', end='')\n",
    "            \n",
    "find_in_file('linux-etc-passwd.txt', 'x', 'y')"
   ]
  },
  {
   "cell_type": "markdown",
   "metadata": {},
   "source": [
    "# Types of parameters\n",
    "\n",
    "1. Mandatory (positional, no default)\n",
    "2. Optional (positional, with default)\n",
    "3. `*args` (positional, gets all remaining ones)\n",
    "4. Keyword-only (optionally has a default)"
   ]
  },
  {
   "cell_type": "code",
   "execution_count": 41,
   "metadata": {},
   "outputs": [
    {
     "name": "stdout",
     "output_type": "stream",
     "text": [
      "x: root:x:0:0:root:/root:/bin/bash\n",
      "x: daemon:x:1:1:daemon:/usr/sbin:/usr/sbin/nologin\n",
      "x: bin:x:2:2:bin:/bin:/usr/sbin/nologin\n",
      "x: sys:x:3:3:sys:/dev:/usr/sbin/nologin\n",
      "x: sync:x:4:65534:sync:/bin:/bin/sync\n",
      "x: games:x:5:60:games:/usr/games:/usr/sbin/nologin\n",
      "x: man:x:6:12:man:/var/cache/man:/usr/sbin/nologin\n",
      "x: lp:x:7:7:lp:/var/spool/lpd:/usr/sbin/nologin\n",
      "x: mail:x:8:8:mail:/var/mail:/usr/sbin/nologin\n",
      "x: news:x:9:9:news:/var/spool/news:/usr/sbin/nologin\n",
      "x: uucp:x:10:10:uucp:/var/spool/uucp:/usr/sbin/nologin\n",
      "x: proxy:x:13:13:proxy:/bin:/usr/sbin/nologin\n",
      "x: www-data:x:33:33:www-data:/var/www:/usr/sbin/nologin\n",
      "x: backup:x:34:34:backup:/var/backups:/usr/sbin/nologin\n",
      "x: list:x:38:38:Mailing List Manager:/var/list:/usr/sbin/nologin\n",
      "x: irc:x:39:39:ircd:/var/run/ircd:/usr/sbin/nologin\n",
      "x: gnats:x:41:41:Gnats Bug-Reporting System (admin):/var/lib/gnats:/usr/sbin/nologin\n",
      "x: nobody:x:65534:65534:nobody:/nonexistent:/usr/sbin/nologin\n",
      "x: syslog:x:101:104::/home/syslog:/bin/false\n",
      "x: messagebus:x:102:106::/var/run/dbus:/bin/false\n",
      "x: landscape:x:103:109::/var/lib/landscape:/bin/false\n",
      "x: jci:x:955:955::/home/jci:/bin/bash\n",
      "x: sshd:x:104:65534::/var/run/sshd:/usr/sbin/nologin\n",
      "x: user:x:1000:1000:user,,,:/home/user:/bin/bash\n",
      "x: reuven:x:1001:1001:Reuven M. Lerner,,,:/home/reuven:/bin/bash\n",
      "x: postfix:x:105:113::/var/spool/postfix:/bin/false\n",
      "x: colord:x:106:116:colord colour management daemon,,,:/var/lib/colord:/bin/false\n",
      "x: postgres:x:107:117:PostgreSQL administrator,,,:/var/lib/postgresql:/bin/bash\n",
      "x: dovecot:x:108:119:Dovecot mail server,,,:/usr/lib/dovecot:/bin/false\n",
      "x: dovenull:x:109:120:Dovecot login user,,,:/nonexistent:/bin/false\n",
      "x: postgrey:x:110:121::/var/lib/postgrey:/bin/false\n",
      "x: debian-spamd:x:111:122::/var/lib/spamassassin:/bin/sh\n",
      "x: memcache:x:113:124:Memcached,,,:/nonexistent:/bin/false\n",
      "x: genadi:x:1002:1003:Genadi Reznichenko,,,:/home/genadi:/bin/bash\n",
      "x: shira:x:1003:1004:Shira Friedman,,,:/home/shira:/bin/bash\n",
      "x: atara:x:1004:1005:Atara Lerner-Friedman,,,:/home/atara:/bin/bash\n",
      "x: shikma:x:1005:1006:Shikma Lerner-Friedman,,,:/home/shikma:/bin/bash\n",
      "x: amotz:x:1006:1007:Amotz Lerner-Friedman,,,:/home/amotz:/bin/bash\n",
      "x: mysql:x:114:125:MySQL Server,,,:/nonexistent:/bin/false\n",
      "x: clamav:x:115:126::/var/lib/clamav:/bin/false\n",
      "x: amavis:x:116:127:AMaViS system user,,,:/var/lib/amavis:/bin/sh\n",
      "x: opendkim:x:117:128::/var/run/opendkim:/bin/false\n",
      "x: gitlab-redis:x:999:1009::/var/opt/gitlab/redis:/bin/nologin\n",
      "x: gitlab-psql:x:998:1010::/var/opt/gitlab/postgresql:/bin/sh\n",
      "x: git:x:1007:1008:GitLab,,,:/home/git:/bin/bash\n",
      "x: opendmarc:x:118:129::/var/run/opendmarc:/bin/false\n",
      "x: dkim-milter-python:x:119:130::/var/run/dkim-milter-python:/bin/false\n",
      "x: deploy:x:1008:1011:Deploy,,,:/home/deploy:/bin/bash\n",
      "x: redis:x:112:123:redis server,,,:/var/lib/redis:/bin/false\n"
     ]
    }
   ],
   "source": [
    "def find_in_file(filename, *args, only_first=False):\n",
    "    for one_line in open(filename):\n",
    "        for one_string in args:\n",
    "            if one_string in one_line:\n",
    "                print(f'{one_string}: {one_line}', end='')\n",
    "                if only_first:\n",
    "                    break\n",
    "            \n",
    "find_in_file('linux-etc-passwd.txt', 'x', 'y', only_first=True)"
   ]
  },
  {
   "cell_type": "markdown",
   "metadata": {},
   "source": [
    "# Exercise: all_lines\n",
    "\n",
    "1. Write a function, `all_lines`, that takes:\n",
    "    - Mandatory argument `outfilename`, into which data will be written\n",
    "    - Any number of arguments `infilenames`, names of files from which we'll read\n",
    "    - Optional argument `sep`, defaults to `\\n`\n",
    "2. After running the function, all content from each file in `infilenames` will be written to `outfilename`, separated from one another with `sep`."
   ]
  },
  {
   "cell_type": "code",
   "execution_count": 42,
   "metadata": {},
   "outputs": [],
   "source": [
    "# all_lines('outfile.txt', 'infile1.txt', 'infile2.txt', 'infile3.txt', sep='------\\n')"
   ]
  },
  {
   "cell_type": "code",
   "execution_count": 43,
   "metadata": {},
   "outputs": [],
   "source": [
    "def all_lines(outfilename, *infilenames, sep='\\n'):\n",
    "    with open(outfilename, 'w') as outfile:\n",
    "        for one_filename in infilenames:\n",
    "            for one_line in open(one_filename):\n",
    "                outfile.write(one_line)\n",
    "            outfile.write(sep)"
   ]
  },
  {
   "cell_type": "code",
   "execution_count": 44,
   "metadata": {},
   "outputs": [],
   "source": [
    "for i in range(5):\n",
    "    with open(f'infile{i}.txt', 'w') as outfile:\n",
    "        for one_word in 'abcd efgh ijkl mnop'.split():\n",
    "            outfile.write(f'{i} {one_word}\\n')\n",
    "        "
   ]
  },
  {
   "cell_type": "code",
   "execution_count": 45,
   "metadata": {},
   "outputs": [
    {
     "name": "stdout",
     "output_type": "stream",
     "text": [
      "infile0.txt  infile1.txt  infile2.txt  infile3.txt  infile4.txt\r\n"
     ]
    }
   ],
   "source": [
    "!ls infile*"
   ]
  },
  {
   "cell_type": "code",
   "execution_count": 46,
   "metadata": {},
   "outputs": [],
   "source": [
    "import glob"
   ]
  },
  {
   "cell_type": "code",
   "execution_count": 47,
   "metadata": {},
   "outputs": [
    {
     "data": {
      "text/plain": [
       "['infile2.txt', 'infile3.txt', 'infile1.txt', 'infile0.txt', 'infile4.txt']"
      ]
     },
     "execution_count": 47,
     "metadata": {},
     "output_type": "execute_result"
    }
   ],
   "source": [
    "glob.glob('infile*')"
   ]
  },
  {
   "cell_type": "code",
   "execution_count": 49,
   "metadata": {},
   "outputs": [],
   "source": [
    "all_lines('outfile.txt', *glob.glob('infile*'))"
   ]
  },
  {
   "cell_type": "code",
   "execution_count": 50,
   "metadata": {},
   "outputs": [
    {
     "name": "stdout",
     "output_type": "stream",
     "text": [
      "2 abcd\r\n",
      "2 efgh\r\n",
      "2 ijkl\r\n",
      "2 mnop\r\n",
      "\r\n",
      "3 abcd\r\n",
      "3 efgh\r\n",
      "3 ijkl\r\n",
      "3 mnop\r\n",
      "\r\n",
      "1 abcd\r\n",
      "1 efgh\r\n",
      "1 ijkl\r\n",
      "1 mnop\r\n",
      "\r\n",
      "0 abcd\r\n",
      "0 efgh\r\n",
      "0 ijkl\r\n",
      "0 mnop\r\n",
      "\r\n",
      "4 abcd\r\n",
      "4 efgh\r\n",
      "4 ijkl\r\n",
      "4 mnop\r\n",
      "\r\n"
     ]
    }
   ],
   "source": [
    "!cat outfile.txt"
   ]
  },
  {
   "cell_type": "code",
   "execution_count": 51,
   "metadata": {},
   "outputs": [],
   "source": [
    "all_lines('outfile.txt', *glob.glob('infile*'), sep='****\\n')"
   ]
  },
  {
   "cell_type": "code",
   "execution_count": 52,
   "metadata": {},
   "outputs": [
    {
     "name": "stdout",
     "output_type": "stream",
     "text": [
      "2 abcd\r\n",
      "2 efgh\r\n",
      "2 ijkl\r\n",
      "2 mnop\r\n",
      "****\r\n",
      "3 abcd\r\n",
      "3 efgh\r\n",
      "3 ijkl\r\n",
      "3 mnop\r\n",
      "****\r\n",
      "1 abcd\r\n",
      "1 efgh\r\n",
      "1 ijkl\r\n",
      "1 mnop\r\n",
      "****\r\n",
      "0 abcd\r\n",
      "0 efgh\r\n",
      "0 ijkl\r\n",
      "0 mnop\r\n",
      "****\r\n",
      "4 abcd\r\n",
      "4 efgh\r\n",
      "4 ijkl\r\n",
      "4 mnop\r\n",
      "****\r\n"
     ]
    }
   ],
   "source": [
    "!cat outfile.txt"
   ]
  },
  {
   "cell_type": "code",
   "execution_count": 53,
   "metadata": {},
   "outputs": [],
   "source": [
    "def all_lines(outfilename, *infilenames, sep='\\n'):\n",
    "    with open(outfilename, 'w') as outfile:\n",
    "        for one_filename in infilenames:\n",
    "            for one_line in open(one_filename):\n",
    "                outfile.write(one_line)\n",
    "            outfile.write(sep)"
   ]
  },
  {
   "cell_type": "code",
   "execution_count": 54,
   "metadata": {},
   "outputs": [
    {
     "name": "stdout",
     "output_type": "stream",
     "text": [
      "Name:              all_lines\n",
      "Filename:          <ipython-input-53-7e5152d82875>\n",
      "Argument count:    1\n",
      "Positional-only arguments: 0\n",
      "Kw-only arguments: 1\n",
      "Number of locals:  6\n",
      "Stack size:        8\n",
      "Flags:             OPTIMIZED, NEWLOCALS, VARARGS, NOFREE\n",
      "Constants:\n",
      "   0: None\n",
      "   1: 'w'\n",
      "Names:\n",
      "   0: open\n",
      "   1: write\n",
      "Variable names:\n",
      "   0: outfilename\n",
      "   1: sep\n",
      "   2: infilenames\n",
      "   3: outfile\n",
      "   4: one_filename\n",
      "   5: one_line\n"
     ]
    }
   ],
   "source": [
    "dis.show_code(all_lines)"
   ]
  },
  {
   "cell_type": "code",
   "execution_count": 55,
   "metadata": {},
   "outputs": [],
   "source": [
    "def add(a, b):\n",
    "    return a + b"
   ]
  },
  {
   "cell_type": "code",
   "execution_count": 56,
   "metadata": {},
   "outputs": [
    {
     "data": {
      "text/plain": [
       "8"
      ]
     },
     "execution_count": 56,
     "metadata": {},
     "output_type": "execute_result"
    }
   ],
   "source": [
    "add(5, b=3)"
   ]
  },
  {
   "cell_type": "code",
   "execution_count": 57,
   "metadata": {},
   "outputs": [
    {
     "ename": "SyntaxError",
     "evalue": "positional argument follows keyword argument (<ipython-input-57-3e31af83bbd2>, line 1)",
     "output_type": "error",
     "traceback": [
      "\u001b[0;36m  File \u001b[0;32m\"<ipython-input-57-3e31af83bbd2>\"\u001b[0;36m, line \u001b[0;32m1\u001b[0m\n\u001b[0;31m    add(a=5, 3)\u001b[0m\n\u001b[0m              ^\u001b[0m\n\u001b[0;31mSyntaxError\u001b[0m\u001b[0;31m:\u001b[0m positional argument follows keyword argument\n"
     ]
    }
   ],
   "source": [
    "add(a=5, 3)"
   ]
  },
  {
   "cell_type": "markdown",
   "metadata": {},
   "source": [
    "# `**kwargs`\n",
    "\n",
    "`kwargs` will be a dict!\n",
    "\n",
    "- Gets all of the leftover keyword arguments\n",
    "- Keys will be strings (left side of the key=value)\n",
    "- Values will be whatever we pass"
   ]
  },
  {
   "cell_type": "code",
   "execution_count": 58,
   "metadata": {},
   "outputs": [],
   "source": [
    "def myfunc(a, b, **kwargs):\n",
    "    return f'{a=}, {b=}, {kwargs=}'"
   ]
  },
  {
   "cell_type": "code",
   "execution_count": 64,
   "metadata": {},
   "outputs": [
    {
     "data": {
      "text/plain": [
       "\"a=10, b=20, kwargs={'x': 100, 'y': 200, 'z': 300}\""
      ]
     },
     "execution_count": 64,
     "metadata": {},
     "output_type": "execute_result"
    }
   ],
   "source": [
    "myfunc(10, 20, x=100, y=200, z=300)"
   ]
  },
  {
   "cell_type": "code",
   "execution_count": null,
   "metadata": {},
   "outputs": [],
   "source": [
    "def write_config(filename, **kwargs):\n",
    "    with open(filename)"
   ]
  }
 ],
 "metadata": {
  "kernelspec": {
   "display_name": "Python 3",
   "language": "python",
   "name": "python3"
  },
  "language_info": {
   "codemirror_mode": {
    "name": "ipython",
    "version": 3
   },
   "file_extension": ".py",
   "mimetype": "text/x-python",
   "name": "python",
   "nbconvert_exporter": "python",
   "pygments_lexer": "ipython3",
   "version": "3.9.1"
  }
 },
 "nbformat": 4,
 "nbformat_minor": 4
}
